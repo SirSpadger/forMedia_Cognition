{
 "cells": [
  {
   "cell_type": "code",
   "execution_count": 1,
   "metadata": {},
   "outputs": [],
   "source": [
    "import torch"
   ]
  },
  {
   "cell_type": "code",
   "execution_count": 4,
   "metadata": {},
   "outputs": [
    {
     "name": "stdout",
     "output_type": "stream",
     "text": [
      "tensor([[1, 2, 3],\n",
      "        [4, 5, 6]])\n",
      "tensor([[1, 2, 3],\n",
      "        [4, 5, 6]])\n"
     ]
    }
   ],
   "source": [
    "x = torch.tensor([[1, 2, 3], [4, 5, 6]])\n",
    "print(x)\n",
    "y = torch.flatten(x, start_dim=1)\n",
    "print(y)"
   ]
  },
  {
   "cell_type": "code",
   "execution_count": 3,
   "metadata": {},
   "outputs": [
    {
     "name": "stdout",
     "output_type": "stream",
     "text": [
      "tensor([[1., 0., 0.],\n",
      "        [0., 1., 0.]])\n"
     ]
    }
   ],
   "source": [
    "x = torch.eye(2, 3, dtype=torch.float32)\n",
    "print(x)"
   ]
  },
  {
   "cell_type": "code",
   "execution_count": 15,
   "metadata": {},
   "outputs": [
    {
     "name": "stdout",
     "output_type": "stream",
     "text": [
      "4\n",
      "torch.Size([4])\n",
      "torch.Size([1, 4])\n",
      "torch.Size([4, 1])\n",
      "torch.Size([1])\n",
      "torch.Size([1, 1])\n"
     ]
    }
   ],
   "source": [
    "x = torch.tensor([1, 2, 3, 4])\n",
    "y = torch.tensor([[1,], [2,], [3,], [4,]])\n",
    "x2 = torch.reshape(x, (-1, 4))\n",
    "print(y.size(0))\n",
    "print(x.size())\n",
    "print(x2.size())\n",
    "print(y.size())\n",
    "z = x @ y\n",
    "z2 = x2 @ y\n",
    "print(z.size())\n",
    "print(z2.size())"
   ]
  },
  {
   "cell_type": "code",
   "execution_count": 25,
   "metadata": {},
   "outputs": [
    {
     "name": "stdout",
     "output_type": "stream",
     "text": [
      "tensor([[1., 1.],\n",
      "        [1., 1.],\n",
      "        [1., 1.]])\n",
      "tensor([3., 3.])\n",
      "tensor([[1., 1.],\n",
      "        [1., 1.],\n",
      "        [1., 1.]])\n"
     ]
    }
   ],
   "source": [
    "x = torch.ones(3, 2)\n",
    "x2 = torch.nn.functional.relu(x)\n",
    "x3 = x2.sum(0)\n",
    "x4 = torch.ones(x.size())\n",
    "x5 = torch.heaviside(x, x4)\n",
    "print(x2)\n",
    "print(x3)\n",
    "print(x5)"
   ]
  },
  {
   "cell_type": "code",
   "execution_count": 27,
   "metadata": {},
   "outputs": [
    {
     "name": "stdout",
     "output_type": "stream",
     "text": [
      "torch.Size([1])\n"
     ]
    },
    {
     "name": "stderr",
     "output_type": "stream",
     "text": [
      "C:\\Users\\lcp\\AppData\\Local\\Temp\\ipykernel_20112\\755995952.py:1: UserWarning: To copy construct from a tensor, it is recommended to use sourceTensor.clone().detach() or sourceTensor.clone().detach().requires_grad_(True), rather than torch.tensor(sourceTensor).\n",
      "  b = torch.tensor(torch.rand(1), requires_grad=True)\n"
     ]
    }
   ],
   "source": [
    "b = torch.tensor(torch.rand(1), requires_grad=True)\n",
    "print(b.size())"
   ]
  },
  {
   "cell_type": "code",
   "execution_count": 30,
   "metadata": {},
   "outputs": [
    {
     "name": "stdout",
     "output_type": "stream",
     "text": [
      "tensor([0, 1, 2])\n",
      "tensor([ True, False, False])\n",
      "tensor(1)\n"
     ]
    }
   ],
   "source": [
    "x = torch.tensor([1, 2, 3])\n",
    "y = x - 1\n",
    "z = (x == 1)\n",
    "z2 = z.sum(0)\n",
    "print(y)\n",
    "print(z)\n",
    "print(z2)"
   ]
  },
  {
   "cell_type": "code",
   "execution_count": 36,
   "metadata": {},
   "outputs": [
    {
     "name": "stdout",
     "output_type": "stream",
     "text": [
      "tensor([ True, False, False])\n",
      "1\n",
      "3\n"
     ]
    }
   ],
   "source": [
    "x = torch.tensor([1, 2, 3])\n",
    "y = torch.tensor([1, 3, 2])\n",
    "z = (x == y)\n",
    "print(z)\n",
    "print(z.sum().item())\n",
    "print(x.max().item())"
   ]
  },
  {
   "cell_type": "code",
   "execution_count": 19,
   "metadata": {},
   "outputs": [
    {
     "name": "stdout",
     "output_type": "stream",
     "text": [
      "tensor([[0.5996, 0.6894, 0.7799],\n",
      "        [0.4275, 0.3010, 0.1527],\n",
      "        [0.7582, 0.6251, 0.9242]])\n",
      "tensor([[0., 1., 1.],\n",
      "        [0., 0., 1.],\n",
      "        [0., 0., 0.]])\n",
      "tensor([[False,  True,  True],\n",
      "        [False, False,  True],\n",
      "        [False, False, False]])\n",
      "tensor([[0.5996,   -inf,   -inf],\n",
      "        [0.4275, 0.3010,   -inf],\n",
      "        [0.7582, 0.6251, 0.9242]])\n"
     ]
    }
   ],
   "source": [
    "attn = torch.rand(3, 3)\n",
    "print(attn)\n",
    "attn_mask = torch.ones(3, 3)\n",
    "attn_mask = torch.triu(attn_mask, diagonal=1)\n",
    "print(attn_mask)\n",
    "attn_mask = attn_mask.bool()\n",
    "print(attn_mask)\n",
    "attn = attn.masked_fill(attn_mask, float('-inf'))\n",
    "print(attn)\n"
   ]
  },
  {
   "cell_type": "code",
   "execution_count": 11,
   "metadata": {},
   "outputs": [
    {
     "name": "stdout",
     "output_type": "stream",
     "text": [
      "tensor([[0.4168, 0.6293, 0.0227]])\n",
      "tensor([0.6293])\n",
      "tensor([1])\n"
     ]
    }
   ],
   "source": [
    "a = torch.rand(1, 3)\n",
    "print(a)\n",
    "b, x = torch.max(a, 1)\n",
    "print(b)\n",
    "print(x)"
   ]
  },
  {
   "cell_type": "code",
   "execution_count": null,
   "metadata": {},
   "outputs": [
    {
     "name": "stdout",
     "output_type": "stream",
     "text": [
      "tensor([[1, 2, 3],\n",
      "        [1, 2, 3]]) torch.Size([2, 3])\n",
      "[tensor([[1, 2, 3],\n",
      "        [1, 2, 3]])]\n"
     ]
    }
   ],
   "source": [
    "x = torch.tensor([[1, 2, 3], [1, 2, 3]])\n",
    "print(x, x.size())\n",
    "print([x])"
   ]
  },
  {
   "cell_type": "code",
   "execution_count": 2,
   "metadata": {},
   "outputs": [
    {
     "name": "stdout",
     "output_type": "stream",
     "text": [
      "Harry Potter and the Sorcerer's Stone\n",
      "\n",
      "CHAPTER ONE\n",
      "THE BOY WHO LIVED\n"
     ]
    }
   ],
   "source": [
    "data = \"Harry Potter and the Sorcerer's Stone\\n\\nCHAPTER ONE\\r\\nTHE BOY WHO LIVED\"\n",
    "print(data) "
   ]
  },
  {
   "cell_type": "code",
   "execution_count": 24,
   "metadata": {},
   "outputs": [
    {
     "name": "stdout",
     "output_type": "stream",
     "text": [
      "['Harry', 'Potter', 'and', 'the', \"Sorcerer's\", 'Stone', '#', 'CHAPTER', 'ONE', '#', 'THE', 'BOY', 'WHO', 'LIVED', '#', 'Mr.', 'and', 'Mrs.', 'Dursley,', 'of', 'number', 'four,', 'Privet', 'Drive,', 'were', 'proud', 'to', 'say', 'that', 'they', 'were', 'perfectly', 'normal,', 'thank', 'you', 'very', 'much.', 'They', 'were', 'the', 'last', 'people', \"you'd\", 'expect', 'to', 'be', 'involved', 'in', 'anything', 'strange', 'or', 'mysterious,', 'because', 'they', 'just', \"didn't\", 'hold', 'with', 'such', 'nonsense.', '#', 'Mr.', 'Dursley', 'was', 'the', 'director', 'of', 'a', 'firm', 'called', 'Grunnings,', 'which', 'made', 'drills.', 'He', 'was', 'a', 'big,', 'beefy', 'man', 'with', 'hardly', 'any', 'neck,', 'although', 'he', 'did', 'have', 'a', 'very', 'large', 'mustache.', 'Mrs.', 'Dursley', 'was', 'thin', 'and', 'blonde', 'and', 'had', 'nearly', 'twice', 'the', 'usual', 'amount', 'of', 'neck,', 'which', 'came', 'in', 'very', 'useful', 'as', 'she', 'spent', 'so', 'much', 'of', 'her', 'time', 'craning', 'over', 'garden', 'fences,', 'spying', 'on', 'the', 'neighbors.', 'The', 'Dursleys', 'had', 'a', 'small', 'son', 'called', 'Dudley', 'and', 'in', 'their', 'opinion', 'there', 'was', 'no', 'finer', 'boy', 'anywhere.', '#', 'The', 'Dursleys', 'had', 'everything', 'they', 'wanted,', 'but', 'they', 'also', 'had', 'a', 'secret,', 'and', 'their', 'greatest', 'fear', 'was', 'that', 'somebody', 'would', 'discover', 'it.', 'They', \"didn't\", 'think', 'they', 'could', 'bear', 'it', 'if', 'anyone', 'found', 'out', 'about', 'the', 'Potters.', 'Mrs.', 'Potter', 'was', 'Mrs.', \"Dursley's\", 'sister,', 'but', 'they', \"hadn't\", 'met', 'for', 'several', 'years;', 'in', 'fact,', 'Mrs.', 'Dursley', 'pretended', 'she', \"didn't\", 'have', 'a', 'sister,', 'because', 'her', 'sister', 'and', 'her', 'good-for-nothing', 'husband', 'were', 'as', 'unDursleyish', 'as', 'it', 'was', 'possible', 'to', 'be.', 'The', 'Dursleys', 'shuddered', 'to', 'think', 'what', 'the', 'neighbors', 'would', 'say', 'if', 'the', 'Potters', 'arrived', 'in', 'the', 'street.', 'The', 'Dursleys', 'knew', 'that', 'the', 'Potters', 'had', 'a', 'small', 'son,', 'too,', 'but', 'they', 'had', 'never', 'even', 'seen', 'him.', 'This', 'boy', 'was', 'another', 'good', 'reason', 'for', 'keeping', 'the', 'Potters', 'away;', 'they', \"didn't\", 'want', 'Dudley', 'mixing', 'with', 'a', 'child', 'like', 'that.', '#', 'When', 'Mr.', 'and', 'Mrs.', 'Dursley', 'woke', 'up', 'on', 'the', 'dull,', 'gray', 'Tuesday', 'our', 'story', 'starts,', 'there', 'was', 'nothing', 'about', 'the', 'cloudy', 'sky', 'outside', 'to', 'suggest', 'that', 'strange', 'and', 'mysterious', 'things', 'would', 'soon', 'be', 'happening', 'all', 'over', 'the', 'country.', 'Mr.', 'Dursley', 'hummed', 'as', 'he', 'picked', 'out', 'his', 'most', 'boring', 'tie', 'for', 'work,', 'and', 'Mrs.', 'Dursley', 'gossiped', 'away', 'happily', 'as', 'she', 'wrestled', 'a', 'screaming', 'Dudley', 'into', 'his', 'high', 'chair.', '#', 'None', 'of', 'them', 'noticed', 'a', 'large,', 'tawny', 'owl', 'flutter', 'past', 'the', 'window.', '#', 'At', 'half', 'past', 'eight,', 'Mr.', 'Dursley', 'picked', 'up', 'his', 'briefcas']\n",
      "<class 'list'>\n"
     ]
    }
   ],
   "source": [
    "with open(\"aud-vis\\programming3\\data\\harry_potter.txt\") as f:\n",
    "    data = f.read(2048)\n",
    "# print(data)\n",
    "# print(type(data))\n",
    "data = data.replace(\" \\n\", \" #\").split()\n",
    "print(data)\n",
    "print(type(data))\n",
    "# data.split()\n"
   ]
  },
  {
   "cell_type": "code",
   "execution_count": null,
   "metadata": {},
   "outputs": [
    {
     "name": "stdout",
     "output_type": "stream",
     "text": [
      "{'A': 1}\n"
     ]
    }
   ],
   "source": [
    "voc2ind = {}\n",
    "voc2ind[\"A\"] = 1\n",
    "print(voc2ind)"
   ]
  },
  {
   "cell_type": "code",
   "execution_count": 29,
   "metadata": {},
   "outputs": [
    {
     "name": "stdout",
     "output_type": "stream",
     "text": [
      "tensor([[0., -inf, -inf, -inf],\n",
      "        [0., 0., -inf, -inf],\n",
      "        [0., 0., 0., -inf],\n",
      "        [0., 0., 0., 0.]])\n"
     ]
    }
   ],
   "source": [
    "attn_mask = torch.full((4, 4), float('-inf'))\n",
    "attn_mask = torch.triu(attn_mask, diagonal=1) # only keep the upper triangle\n",
    "print(attn_mask)"
   ]
  },
  {
   "cell_type": "code",
   "execution_count": 34,
   "metadata": {},
   "outputs": [
    {
     "name": "stdout",
     "output_type": "stream",
     "text": [
      "torch.Size([5000])\n",
      "torch.Size([5000, 1])\n",
      "torch.Size([256])\n",
      "torch.Size([5000, 256])\n",
      "tensor([[-0.0000,  1.0000, -0.0000,  ...,     nan,     nan,     nan],\n",
      "        [-0.0180,  0.9998, -0.1325,  ...,     nan,     nan,     nan],\n",
      "        [-0.0360,  0.9994, -0.2627,  ...,     nan,     nan,     nan],\n",
      "        ...,\n",
      "        [-0.9375, -0.3479,  0.9716,  ...,     nan,     nan,     nan],\n",
      "        [-0.9311, -0.3647,  0.9944,  ...,     nan,     nan,     nan],\n",
      "        [-0.9244, -0.3814,  0.9996,  ...,     nan,     nan,     nan]])\n"
     ]
    }
   ],
   "source": [
    "import math\n",
    "max_len = 5000\n",
    "d_model = 512\n",
    "pe = torch.zeros(max_len, d_model)\n",
    "pos = torch.arange(0, max_len).float() # 0:1:max_len\n",
    "print(pos.size())\n",
    "pos = pos.unsqueeze(1)\n",
    "print(pos.size())\n",
    "denominator = torch.exp(torch.arange(0, d_model, 2)).float() * (-math.log(10000.0) / d_model) # 10000^{2i/d_model}\n",
    "print(denominator.size())\n",
    "print((pos * denominator).size())\n",
    "pe[:, 0::2] = torch.sin(pos * denominator)\n",
    "pe[:, 1::2] = torch.cos(pos * denominator)\n",
    "print(pe)"
   ]
  },
  {
   "cell_type": "code",
   "execution_count": 43,
   "metadata": {},
   "outputs": [
    {
     "name": "stdout",
     "output_type": "stream",
     "text": [
      "tensor([1, 2, 3, 4, 4, 4])\n"
     ]
    }
   ],
   "source": [
    "x = torch.tensor([1, 2, 3])\n",
    "y = torch.tensor([4, 4, 4])\n",
    "z = torch.concat((x, y), 0)\n",
    "print(z)"
   ]
  },
  {
   "cell_type": "code",
   "execution_count": 48,
   "metadata": {},
   "outputs": [
    {
     "name": "stdout",
     "output_type": "stream",
     "text": [
      "tensor([2])\n",
      "torch.Size([1])\n"
     ]
    }
   ],
   "source": [
    "x = torch.multinomial(torch.tensor([0.2, 0.4, 0.4]), 1)\n",
    "print(x)\n",
    "print(x.size())"
   ]
  }
 ],
 "metadata": {
  "kernelspec": {
   "display_name": "media_cognition",
   "language": "python",
   "name": "python3"
  },
  "language_info": {
   "codemirror_mode": {
    "name": "ipython",
    "version": 3
   },
   "file_extension": ".py",
   "mimetype": "text/x-python",
   "name": "python",
   "nbconvert_exporter": "python",
   "pygments_lexer": "ipython3",
   "version": "3.9.16"
  }
 },
 "nbformat": 4,
 "nbformat_minor": 2
}
